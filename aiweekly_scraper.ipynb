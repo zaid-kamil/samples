{
 "cells": [
  {
   "cell_type": "code",
   "execution_count": 2,
   "metadata": {},
   "outputs": [],
   "source": [
    "import requests\n",
    "from bs4 import BeautifulSoup"
   ]
  },
  {
   "cell_type": "code",
   "execution_count": 3,
   "metadata": {},
   "outputs": [],
   "source": [
    "url = \"https://aiweekly.co/\"\n",
    "page = requests.get(url)\n",
    "if page.status_code != 200:\n",
    "    print(\"Error: Page not found\")\n",
    "soup = BeautifulSoup(page.content, 'lxml')"
   ]
  },
  {
   "cell_type": "code",
   "execution_count": 5,
   "metadata": {},
   "outputs": [
    {
     "data": {
      "text/plain": [
       "19"
      ]
     },
     "execution_count": 5,
     "metadata": {},
     "output_type": "execute_result"
    }
   ],
   "source": [
    "cards = soup.find_all('div',attrs={'class':'item item--issue item--link'})\n",
    "len(cards)"
   ]
  },
  {
   "cell_type": "code",
   "execution_count": 16,
   "metadata": {},
   "outputs": [],
   "source": [
    "def get_latest_aiweekly():\n",
    "    aidata = []\n",
    "    for news in cards:\n",
    "        try:\n",
    "            title = news.find('h3',attrs={'class':'item__title'}).text\n",
    "        except:\n",
    "            title=\"\"\n",
    "        try:\n",
    "            link = news.find('h3',attrs={'class':'item__title'}).find('a').get('href')\n",
    "        except:\n",
    "            link =\"\"\n",
    "        try:\n",
    "            para = news.find('p').text\n",
    "        except:\n",
    "            para=\"\"\n",
    "        try:\n",
    "            source=news.find('span',attrs={'class':'item__footer-link'}).text\n",
    "        except:\n",
    "            source=\"\"\n",
    "        aidata.append({\n",
    "            'title':title,\n",
    "            'link':link,\n",
    "            'para':para,\n",
    "            'source':source,\n",
    "            'category':'aiweekly'\n",
    "        })\n",
    "    return aidata\n",
    "    "
   ]
  },
  {
   "cell_type": "code",
   "execution_count": 17,
   "metadata": {},
   "outputs": [
    {
     "data": {
      "text/plain": [
       "[{'title': '',\n",
       "  'link': '',\n",
       "  'para': '',\n",
       "  'source': '\\nsjv.io\\n',\n",
       "  'category': 'aiweekly'},\n",
       " {'title': 'AI’s invisible hand on daily life',\n",
       "  'link': 'https://cur.at/tYRqalp?m=web',\n",
       "  'para': 'There are so many great applications of Artificial Intelligence in daily life, by using machine learning and other techniques in the background.',\n",
       "  'source': '\\ndataconomy.com\\n',\n",
       "  'category': 'aiweekly'},\n",
       " {'title': 'Online Marketing Can Be Easy With Our All-in-one marketing platform.',\n",
       "  'link': 'https://cur.at/JfM1xk0?m=web',\n",
       "  'para': 'Save time & budget. Stay creative with your content while Semrush takes care of the data. Do SEO, content marketing, competitor research, PPC and social media marketing from just one platform. Try our award-winning tools trusted by the world’s leading companies.',\n",
       "  'source': '\\nsjv.io\\n',\n",
       "  'category': 'aiweekly'},\n",
       " {'title': 'Kai-Fu Lee : \"AI and the human future: Net positive\"',\n",
       "  'link': 'https://cur.at/cHzshxh?m=web',\n",
       "  'para': 'The future of AI is often framed in dramatic, dystopian visions, like robots stealing human jobs leading to mass unemployment, or corporations and governments using powerful technologies for population surveillance.',\n",
       "  'source': '\\neconomist.com\\n',\n",
       "  'category': 'aiweekly'},\n",
       " {'title': 'The $2 Billion Emoji: Hugging Face Wants To Be Launchpad For A Machine Learning Revolution',\n",
       "  'link': 'https://cur.at/9qM6p0z?m=web',\n",
       "  'para': 'Newly valued at $2 billion, the AI 50 debutant originated as a chatbot for teenagers. Now, it has aspirations—and $100 million in fresh dry powder—to be the GitHub of machine learning.',\n",
       "  'source': '\\nforbes.com\\n',\n",
       "  'category': 'aiweekly'},\n",
       " {'title': 'Google Cloud unveils world’s largest publicly available ML hub - 90% carbon-free energy',\n",
       "  'link': 'https://cur.at/5lKXEGg?m=web',\n",
       "  'para': 'At Google, the state-of-the-art capabilities you see in our products such as Search and YouTube are made possible by Tensor Processing Units (TPUs), our custom machine learning (ML) accelerators.',\n",
       "  'source': '\\ngoogle.com\\n',\n",
       "  'category': 'aiweekly'},\n",
       " {'title': 'Unpacking Machine-Learning “Black-Box” Models',\n",
       "  'link': 'https://cur.at/5mFA8Zt?m=web',\n",
       "  'para': 'Researchers create a mathematical framework to evaluate explanations of machine-learning models and quantify how well people understand them.',\n",
       "  'source': '\\nswisscognitive.ch\\n',\n",
       "  'category': 'aiweekly'},\n",
       " {'title': 'AI system learns concepts shared across video, audio, and text',\n",
       "  'link': 'https://cur.at/ezqDFPM?m=web',\n",
       "  'para': ' A machine-learning model can identify the action in a video clip and label it, without the help of humans.',\n",
       "  'source': '\\nmit.edu\\n',\n",
       "  'category': 'aiweekly'},\n",
       " {'title': ' AI research is a dumpster fire and Google’s holding the matches ',\n",
       "  'link': 'https://cur.at/oiGcHhK?m=web',\n",
       "  'para': 'Google, more than any other company, bears responsibility for the modern AI paradigm. That means we need to give big G full marks for bringing natural language processing and image recognition to the masses.',\n",
       "  'source': '\\nthenextweb.com\\n',\n",
       "  'category': 'aiweekly'},\n",
       " {'title': 'Surveillance AI needs fake data to track people',\n",
       "  'link': 'https://cur.at/yzmeFnH?m=web',\n",
       "  'para': 'Synthetic data suppliers promise that the fake data they provide can reduce bias in AI, but it also helps build controversial technologies used to monitor people’s behavior and interpret their emotions and body language.',\n",
       "  'source': '\\nprotocol.com\\n',\n",
       "  'category': 'aiweekly'},\n",
       " {'title': 'DALL-E 2 Creates Incredible Images—and Biased Ones You Don’t See',\n",
       "  'link': 'https://cur.at/rePC725?m=web',\n",
       "  'para': 'Photorealistic depictions that look like the real world, shared widely on social media by a select number of early testers, have given the impression that the model can create images of almost anything.\\n“There were a lot of non-white people whenever there was a negative adjective associated with the...',\n",
       "  'source': '\\nampproject.org\\n',\n",
       "  'category': 'aiweekly'},\n",
       " {'title': 'The Forgotten Margins of AI Ethics',\n",
       "  'link': 'https://cur.at/nmpK23t?m=web',\n",
       "  'para': 'How has recent AI Ethics literature addressed topics such as fairness and justice in the context of continued social and structural power asymmetries?\\nWe also survey the field and explore emerging trends by examining the rapidly growing body of literature that falls under the broad umbrella of AI...',\n",
       "  'source': '\\narxiv.org\\n',\n",
       "  'category': 'aiweekly'},\n",
       " {'title': 'Robot chef imitates human eating process to create tastier food',\n",
       "  'link': 'https://cur.at/nL0JnAp?m=web',\n",
       "  'para': 'Cambridge scientists say robot is capable of ‘tasting’ and checking whether balance of flavours is right',\n",
       "  'source': '\\ntheguardian.com\\n',\n",
       "  'category': 'aiweekly'},\n",
       " {'title': 'Charismatic Robots in Everyday Human Spaces',\n",
       "  'link': 'https://cur.at/NU7jC3D?m=web',\n",
       "  'para': 'Heather Knight will present work from the Collaborative Humans and Robotics: Interaction, Sociability, Machine learning and Art (CHARISMA) robotics lab at Oregon State University (OSU).\\nSpeaker Heather Knight is an assistant professor of computer science and runs the CHARISMA robotics research group...',\n",
       "  'source': '\\nharvard.edu\\n',\n",
       "  'category': 'aiweekly'},\n",
       " {'title': 'Robots and Humans Make Murals Together ',\n",
       "  'link': 'https://cur.at/xwMpxMr?m=web',\n",
       "  'para': 'At CHI 2022, researchers from ETH Zurich presented an interactive robotic plastering system that lets artistic humans use augmented reality to create three-dimensional designs meant to be sprayed in plaster on bare walls by robotic arms.\\nRobotic fabrication is not a new idea.\\nIn this example, it’s...',\n",
       "  'source': '\\nieee.org\\n',\n",
       "  'category': 'aiweekly'},\n",
       " {'title': 'Machine Learning with PyTorch and Scikit-Learn: Develop machine learning and deep learning models with Python',\n",
       "  'link': 'https://cur.at/rDbiuFl?m=web',\n",
       "  'para': \"This book of the bestselling and widely acclaimed Python Machine Learning series is a comprehensive guide to machine and deep learning using PyTorch's simple to code framework Machine Learning with PyTorch and Scikit-Learn is a comprehensive guide to machine learning and deep learning with...\",\n",
       "  'source': '\\namazon.com\\n',\n",
       "  'category': 'aiweekly'},\n",
       " {'title': 'An Experimental Design Perspective on Model-Based Reinforcement Learning',\n",
       "  'link': 'https://cur.at/rkZb7uN?m=web',\n",
       "  'para': 'Main Idea Inspired by BOED and Bayesian algorithm execution (BAX) [11], we use ideas from information theory to motivate our method to effectively choose data points.\\nIn summary, we can estimate our acquisition function via the following procedure, which is subject to the two assumptions listed...',\n",
       "  'source': '\\ncmu.edu\\n',\n",
       "  'category': 'aiweekly'},\n",
       " {'title': 'On the effect of pre-training corpora on in-context learning by large-scale language model.',\n",
       "  'link': 'https://cur.at/mVNpSPz?m=web',\n",
       "  'para': 'The natural language processing (NLP) community was surprised to learn that zero/few-shot in-context learning ability also emerges in a large-scale language model such as GPT-3',\n",
       "  'source': '\\nclova.ai\\n',\n",
       "  'category': 'aiweekly'},\n",
       " {'title': 'Online Marketing Can Be Easy With Our All-in-one marketing platform.',\n",
       "  'link': 'https://cur.at/MocnhNz?m=web',\n",
       "  'para': 'Save time & budget. Stay creative with your content while Semrush takes care of the data. Do SEO, content marketing, competitor research, PPC and social media marketing from just one platform. Try our award-winning tools trusted by the world’s leading companies.',\n",
       "  'source': '\\nsjv.io\\n',\n",
       "  'category': 'aiweekly'}]"
      ]
     },
     "execution_count": 17,
     "metadata": {},
     "output_type": "execute_result"
    }
   ],
   "source": [
    "get_latest_aiweekly()"
   ]
  },
  {
   "cell_type": "code",
   "execution_count": null,
   "metadata": {},
   "outputs": [],
   "source": []
  }
 ],
 "metadata": {
  "interpreter": {
   "hash": "203ec5af3e26acf3e3c83a4183d4b4efe59642f60e2721ccf6236536a59ece46"
  },
  "kernelspec": {
   "display_name": "Python 3.9.7 ('base')",
   "language": "python",
   "name": "python3"
  },
  "language_info": {
   "codemirror_mode": {
    "name": "ipython",
    "version": 3
   },
   "file_extension": ".py",
   "mimetype": "text/x-python",
   "name": "python",
   "nbconvert_exporter": "python",
   "pygments_lexer": "ipython3",
   "version": "3.9.7"
  },
  "orig_nbformat": 4
 },
 "nbformat": 4,
 "nbformat_minor": 2
}
